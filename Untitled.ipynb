{
 "cells": [
  {
   "cell_type": "code",
   "execution_count": 5,
   "metadata": {
    "collapsed": false
   },
   "outputs": [
    {
     "name": "stderr",
     "output_type": "stream",
     "text": [
      "/home/ubuntu/miniconda3/lib/python3.5/site-packages/matplotlib/__init__.py:1350: UserWarning:  This call to matplotlib.use() has no effect\n",
      "because the backend has already been chosen;\n",
      "matplotlib.use() must be called *before* pylab, matplotlib.pyplot,\n",
      "or matplotlib.backends is imported for the first time.\n",
      "\n",
      "  warnings.warn(_use_error_msg)\n"
     ]
    }
   ],
   "source": [
    "import sys\n",
    "import os\n",
    "import re\n",
    "import argparse\n",
    "import subprocess\n",
    "from subprocess import call\n",
    "import audiolabel\n",
    "import numpy as np\n",
    "import shutil\n",
    "import datetime\n",
    "from PIL import Image\n",
    "from scipy import misc\n",
    "from scipy import ndimage\n",
    "from scipy import sparse\n",
    "import glob\n",
    "import matplotlib.pyplot as plt\n",
    "from ultratils.exp import Exp\n",
    "from itertools import *\n",
    "\n",
    "from sklearn import decomposition\n",
    "from sklearn.decomposition import PCA\n"
   ]
  },
  {
   "cell_type": "code",
   "execution_count": 7,
   "metadata": {
    "collapsed": false
   },
   "outputs": [
    {
     "name": "stdout",
     "output_type": "stream",
     "text": [
      "I'm a beer\n"
     ]
    }
   ],
   "source": [
    "mydir = '/media/sf_vmshare/QP/raw_qp_data/sub_bmps/103/2014-12-10T081758-0800/'\n",
    "stimfile = os.path.join(mydir,'stim.txt')\n",
    "stim = open(stimfile)\n",
    "stimtext = stim.read()\n",
    "print(stimtext)"
   ]
  },
  {
   "cell_type": "code",
   "execution_count": 8,
   "metadata": {
    "collapsed": false
   },
   "outputs": [
    {
     "name": "stdout",
     "output_type": "stream",
     "text": [
      "I\n",
      "'\n",
      "m\n",
      " \n",
      "a\n",
      " \n",
      "b\n",
      "e\n",
      "e\n",
      "r\n"
     ]
    }
   ],
   "source": [
    "WORDS = ['bar', 'bore', 'beer']\n",
    "\n",
    "for substring in stimtext:\n",
    "    if substring not in WORDS:\n",
    "        print(substring)\n"
   ]
  },
  {
   "cell_type": "code",
   "execution_count": 10,
   "metadata": {
    "collapsed": false
   },
   "outputs": [
    {
     "name": "stdout",
     "output_type": "stream",
     "text": [
      "r\n"
     ]
    }
   ],
   "source": [
    "if any(substring in stimtext for substring in WORDS):\n",
    "    print(substring)"
   ]
  },
  {
   "cell_type": "code",
   "execution_count": 11,
   "metadata": {
    "collapsed": false
   },
   "outputs": [
    {
     "name": "stdout",
     "output_type": "stream",
     "text": [
      " beer\n"
     ]
    }
   ],
   "source": [
    "print(stimtext[5:])"
   ]
  },
  {
   "cell_type": "code",
   "execution_count": 15,
   "metadata": {
    "collapsed": false
   },
   "outputs": [
    {
     "name": "stdout",
     "output_type": "stream",
     "text": [
      "beer\n",
      "['bar', 'bore', 'beer']\n",
      "yay\n"
     ]
    }
   ],
   "source": [
    "stimmy = stimtext[6:]\n",
    "print(stimmy)\n",
    "print(WORDS)\n",
    "if stimmy in WORDS:\n",
    "    print('yay')"
   ]
  },
  {
   "cell_type": "code",
   "execution_count": null,
   "metadata": {
    "collapsed": true
   },
   "outputs": [],
   "source": []
  }
 ],
 "metadata": {
  "kernelspec": {
   "display_name": "Python 3",
   "language": "python",
   "name": "python3"
  },
  "language_info": {
   "codemirror_mode": {
    "name": "ipython",
    "version": 3
   },
   "file_extension": ".py",
   "mimetype": "text/x-python",
   "name": "python",
   "nbconvert_exporter": "python",
   "pygments_lexer": "ipython3",
   "version": "3.5.1"
  }
 },
 "nbformat": 4,
 "nbformat_minor": 0
}
